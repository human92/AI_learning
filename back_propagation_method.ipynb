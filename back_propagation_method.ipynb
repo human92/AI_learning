{
 "cells": [
  {
   "cell_type": "code",
   "execution_count": 1,
   "metadata": {},
   "outputs": [],
   "source": [
    "#パッケージのインポート\n",
    "import numpy as np\n",
    "import math"
   ]
  },
  {
   "cell_type": "code",
   "execution_count": 2,
   "metadata": {},
   "outputs": [],
   "source": [
    "#各関数の定義\n",
    "def sigmoid(u):\n",
    "    return 1/(1+np.exp(-u))\n",
    "\n",
    "def softmax(u):\n",
    "    e = np.exp(u)\n",
    "    return e/np.sum(e)\n",
    "\n",
    "#順伝搬の計算の定義\n",
    "def forward(x):\n",
    "    global W1\n",
    "    global W2\n",
    "    u1 = x.dot(W1)\n",
    "    z1 = sigmoid(u1)\n",
    "    u2 = z1.dot(W2)\n",
    "    y = softmax(u2)\n",
    "    return y, z1"
   ]
  },
  {
   "cell_type": "code",
   "execution_count": 3,
   "metadata": {},
   "outputs": [
    {
     "name": "stdout",
     "output_type": "stream",
     "text": [
      "[[0.549834   0.62245933]]\n",
      "[[0.44165237 0.55834763]]\n"
     ]
    }
   ],
   "source": [
    "#各変数の定義\n",
    "W1 = np.array([[0.1, 0.3], [0.2, 0.4]])\n",
    "W2 = np.array([[0.1, 0.3], [0.2, 0.4]])\n",
    "\n",
    "x = np.array([[1, 0.5]])\n",
    "y, z1 = forward(x)\n",
    "\n",
    "#出力\n",
    "print(z1)\n",
    "print(y)"
   ]
  },
  {
   "cell_type": "code",
   "execution_count": 4,
   "metadata": {},
   "outputs": [],
   "source": [
    "#誤差逆伝搬\n",
    "def back_propagation(x, z1, y, d):\n",
    "    global W1\n",
    "    global W2\n",
    "    delta2 = y-d\n",
    "    grad_W2 = z1.T.dot(delta2)\n",
    "    \n",
    "    sigmoid_dash = z1 * (1-z1)\n",
    "    delta1 = delta2.dot(W2.T) * sigmoid_dash\n",
    "    grad_W1 = x.T.dot(delta1)\n",
    "    \n",
    "    W2 -= learning_rate * grad_W2\n",
    "    W1 -= learning_rate * grad_W1"
   ]
  },
  {
   "cell_type": "code",
   "execution_count": 5,
   "metadata": {},
   "outputs": [
    {
     "name": "stdout",
     "output_type": "stream",
     "text": [
      "[[0.0998618  0.29986879]\n",
      " [0.1999309  0.39993439]]\n",
      "[[0.10153499 0.29846501]\n",
      " [0.20173774 0.39826226]]\n"
     ]
    }
   ],
   "source": [
    "W1 = np.array([[0.1, 0.3], [0.2, 0.4]])\n",
    "W2 = np.array([[0.1, 0.3], [0.2, 0.4]])\n",
    "learning_rate = 0.005\n",
    "\n",
    "# 順伝播\n",
    "x = np.array([[1, 0.5]])\n",
    "y, z1 = forward(x)\n",
    "\n",
    "# 誤差逆伝播\n",
    "d = np.array([[1, 0]]) \n",
    "back_propagation(x, z1, y, d)\n",
    "\n",
    "print (W1)\n",
    "print (W2)"
   ]
  },
  {
   "cell_type": "code",
   "execution_count": null,
   "metadata": {},
   "outputs": [],
   "source": []
  }
 ],
 "metadata": {
  "kernelspec": {
   "display_name": "Python 3",
   "language": "python",
   "name": "python3"
  },
  "language_info": {
   "codemirror_mode": {
    "name": "ipython",
    "version": 3
   },
   "file_extension": ".py",
   "mimetype": "text/x-python",
   "name": "python",
   "nbconvert_exporter": "python",
   "pygments_lexer": "ipython3",
   "version": "3.6.6"
  }
 },
 "nbformat": 4,
 "nbformat_minor": 2
}
