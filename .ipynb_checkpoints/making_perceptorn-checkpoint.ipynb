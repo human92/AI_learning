{
 "cells": [
  {
   "cell_type": "code",
   "execution_count": 25,
   "metadata": {},
   "outputs": [],
   "source": [
    "#アンドゲート（論理積）\n",
    "#すべてが1の時のみ1\n",
    "def andgate(x1, x2):\n",
    "    w1, w2, θ = 0.5, 0.5, 0.7\n",
    "    y = (x1 * w1)+(x2 * w2)\n",
    "    if y <= θ:\n",
    "        return 0\n",
    "    else:\n",
    "        return 1"
   ]
  },
  {
   "cell_type": "code",
   "execution_count": 26,
   "metadata": {},
   "outputs": [
    {
     "data": {
      "text/plain": [
       "0"
      ]
     },
     "execution_count": 26,
     "metadata": {},
     "output_type": "execute_result"
    }
   ],
   "source": [
    "andgate(0, 0)"
   ]
  },
  {
   "cell_type": "code",
   "execution_count": 27,
   "metadata": {},
   "outputs": [],
   "source": [
    "#オアゲート（論理和）\n",
    "#どれかがが1の時1\n",
    "def orgate(x1, x2):\n",
    "    w1, w2, θ = 0.5, 0.5, 0.7\n",
    "    y = (x1 * w1)+(x2 * w2)\n",
    "    if y == 0:\n",
    "        return 0\n",
    "    else:\n",
    "        return 1"
   ]
  },
  {
   "cell_type": "code",
   "execution_count": 28,
   "metadata": {},
   "outputs": [
    {
     "data": {
      "text/plain": [
       "1"
      ]
     },
     "execution_count": 28,
     "metadata": {},
     "output_type": "execute_result"
    }
   ],
   "source": [
    "orgate(1,1)"
   ]
  },
  {
   "cell_type": "code",
   "execution_count": 29,
   "metadata": {},
   "outputs": [],
   "source": [
    "#ナンドゲート（論理積の否定）\n",
    "#すべてが1の時のみ0\n",
    "def nandgate(x1, x2):\n",
    "    w1, w2, θ = 0.5, 0.5, 0.7\n",
    "    y = (x1 * w1)+(x2 * w2)\n",
    "    if y <= θ:\n",
    "        return 1\n",
    "    else:\n",
    "        return 0"
   ]
  },
  {
   "cell_type": "code",
   "execution_count": 22,
   "metadata": {},
   "outputs": [
    {
     "data": {
      "text/plain": [
       "1"
      ]
     },
     "execution_count": 22,
     "metadata": {},
     "output_type": "execute_result"
    }
   ],
   "source": [
    "nandgate(0,0)"
   ]
  },
  {
   "cell_type": "code",
   "execution_count": 30,
   "metadata": {},
   "outputs": [],
   "source": [
    "#XORゲート（排他的論理和）\n",
    "#不一致論理\n",
    "def xorgate(x1, x2):\n",
    "    w1, w2, θ = 0.5, 0.5, 0.7\n",
    "    y = (x1 * w1)+(x2 * w2)\n",
    "    if y == 0:\n",
    "        return 0\n",
    "    elif y == 1:\n",
    "        return 0\n",
    "    else:\n",
    "        return 1"
   ]
  },
  {
   "cell_type": "code",
   "execution_count": 31,
   "metadata": {},
   "outputs": [
    {
     "data": {
      "text/plain": [
       "0"
      ]
     },
     "execution_count": 31,
     "metadata": {},
     "output_type": "execute_result"
    }
   ],
   "source": [
    "xorgate(0,0)"
   ]
  },
  {
   "cell_type": "code",
   "execution_count": null,
   "metadata": {},
   "outputs": [],
   "source": [
    "#XORゲート（排他的論理和）\n",
    "#すべての論理回路を使って\n",
    "#多層パーセプトロン"
   ]
  }
 ],
 "metadata": {
  "kernelspec": {
   "display_name": "Python 3",
   "language": "python",
   "name": "python3"
  },
  "language_info": {
   "codemirror_mode": {
    "name": "ipython",
    "version": 3
   },
   "file_extension": ".py",
   "mimetype": "text/x-python",
   "name": "python",
   "nbconvert_exporter": "python",
   "pygments_lexer": "ipython3",
   "version": "3.6.6"
  }
 },
 "nbformat": 4,
 "nbformat_minor": 2
}
